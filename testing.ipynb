{
 "cells": [
  {
   "cell_type": "code",
   "execution_count": 13,
   "metadata": {},
   "outputs": [
    {
     "name": "stdout",
     "output_type": "stream",
     "text": [
      "6 % 2\n"
     ]
    }
   ],
   "source": [
    "import random\n",
    "ram_num1 = (\"1\", \"2\", \"3\", \"4\", \"5\", \"6\", \"7\", \"8\", \"9\")\n",
    "ram_num2 = (\"1\", \"2\", \"3\", \"4\", \"5\", \"6\", \"7\", \"8\", \"9\")\n",
    "ram_symbol = \"+-*//%**\"\n",
    "num1_str = random.choice(ram_num1)\n",
    "num2_str = random.choice(ram_num2)\n",
    "symbol_str = random.choice(ram_symbol)\n",
    "num1_int = num1_str\n",
    "num2_int = num2_str\n",
    "\n",
    "print(num1_int, symbol_str, num2_int) \n"
   ]
  },
  {
   "cell_type": "code",
   "execution_count": 4,
   "metadata": {},
   "outputs": [
    {
     "name": "stdout",
     "output_type": "stream",
     "text": [
      "Please solve this math problem 9 - 9\n",
      "You pass ;D\n"
     ]
    }
   ],
   "source": [
    "import random\n",
    "math_symbols = ['+', '-', '*', '/']\n",
    "num1 = random.randint(1, 10)\n",
    "num2 = random.randint(1, 10)\n",
    "random_math_symbol = random.choice(math_symbols)\n",
    "if random_math_symbol == '+':\n",
    "    result = num1 + num2\n",
    "elif random_math_symbol == '-':\n",
    "    result = num1 - num2\n",
    "elif random_math_symbol == '*':\n",
    "    result = num1 * num2\n",
    "elif random_math_symbol == '/':\n",
    "     result = num1 // num2\n",
    "\n",
    "print(f\"Please solve this math problem {num1} {random_math_symbol} {num2}\")\n",
    "player_math = int(input(\"Enter your answer here!!!\"))\n",
    "if player_math == result:\n",
    "    print(\"You pass ;D\")\n",
    "else:\n",
    "    print(f\"Wrong answer -,- The answer is {result}\")\n"
   ]
  },
  {
   "cell_type": "code",
   "execution_count": 5,
   "metadata": {},
   "outputs": [],
   "source": [
    "question = {\n",
    "    \"dog\" : \"woak woak woak\",\n",
    "}"
   ]
  },
  {
   "cell_type": "code",
   "execution_count": 6,
   "metadata": {},
   "outputs": [
    {
     "ename": "NameError",
     "evalue": "name 'answer' is not defined",
     "output_type": "error",
     "traceback": [
      "\u001b[1;31m---------------------------------------------------------------------------\u001b[0m",
      "\u001b[1;31mNameError\u001b[0m                                 Traceback (most recent call last)",
      "Cell \u001b[1;32mIn[6], line 1\u001b[0m\n\u001b[1;32m----> 1\u001b[0m \u001b[38;5;28mprint\u001b[39m(\u001b[43manswer\u001b[49m)\n",
      "\u001b[1;31mNameError\u001b[0m: name 'answer' is not defined"
     ]
    }
   ],
   "source": [
    "print(answer)"
   ]
  },
  {
   "cell_type": "code",
   "execution_count": null,
   "metadata": {},
   "outputs": [],
   "source": []
  },
  {
   "cell_type": "code",
   "execution_count": 10,
   "metadata": {},
   "outputs": [
    {
     "name": "stdout",
     "output_type": "stream",
     "text": [
      "Welcome to the Guessing Game!\n",
      "\n",
      "Correct! You win!\n"
     ]
    }
   ],
   "source": [
    "import random\n",
    "\n",
    "questions = {\n",
    "    \"A mammal that has an ancute od smell and a barking.\": \"dog\",\n",
    "    \"a small mammal with soft fur and retracttable claws.It is widely kept as a pet or for catching mice.\": \"cat\",\n",
    "    \"a very large cat with a yellow-brown coat striped with black. When angry it's say roar.\": \"tiger\",\n",
    "    \"a colorful bird feeding on fruits and seeds Many are popular as able to mimic the human voice.\": \"parrot\",\n",
    "    \"a large bird of prey with a massive hooked bill and long broad wings, known for its keen sight and powerful soaring flight.\": \"eagle\",\n",
    "    \"a mammal which lives in the sea and looks like a large fish with a pointed mouth. It's like to stay near human\": \"dolphin\"\n",
    "}\n",
    "\n",
    "print(\"Welcome to the Guessing Game!\\n\")\n",
    "\n",
    "question, a = random.choice(list(questions.items()))\n",
    "\n",
    "user_guess = input(f\"Question: {question}\\nYour Guess: \").lower()\n",
    "    \n",
    "if user_guess == a:\n",
    "    print(\"Correct! You win!\")\n",
    "else:\n",
    "    print(f\"Wrong! The correct answer was: {answer}\")\n"
   ]
  },
  {
   "cell_type": "code",
   "execution_count": null,
   "metadata": {},
   "outputs": [],
   "source": [
    "player_try_again = input(\"Do you want to keep going? (y/n): \").lower()\n",
    "if player_try_again == \"y\":\n",
    "    print(\"hello\")\n",
    "    quit()\n",
    "    print(\"hhjhjhjhj\")\n",
    "elif player_try_again == \"n\":\n",
    "    print(\"hi\")\n",
    "else:\n",
    "    print(\"I don't get it!\\n\"\n",
    "          \"You supposed to type (y/n)\\n\"\n",
    "          \"BYE!!!\")\n",
    "    "
   ]
  }
 ],
 "metadata": {
  "kernelspec": {
   "display_name": "hs_lenghortly",
   "language": "python",
   "name": "python3"
  },
  "language_info": {
   "codemirror_mode": {
    "name": "ipython",
    "version": 3
   },
   "file_extension": ".py",
   "mimetype": "text/x-python",
   "name": "python",
   "nbconvert_exporter": "python",
   "pygments_lexer": "ipython3",
   "version": "3.12.5"
  }
 },
 "nbformat": 4,
 "nbformat_minor": 2
}
